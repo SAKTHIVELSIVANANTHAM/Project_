{
 "cells": [
  {
   "cell_type": "code",
   "execution_count": 1,
   "metadata": {
    "id": "Nd8KT1r7hhl7"
   },
   "outputs": [
    {
     "name": "stderr",
     "output_type": "stream",
     "text": [
      "2023-03-13 18:47:01.588191: I tensorflow/stream_executor/platform/default/dso_loader.cc:49] Successfully opened dynamic library libcudart.so.10.1\n"
     ]
    }
   ],
   "source": [
    "# Importing necessary libraries\n",
    "import os\n",
    "import random\n",
    "import numpy as np\n",
    "import pandas as pd\n",
    "import matplotlib.pyplot as plt\n",
    "import cv2\n",
    "from sklearn.model_selection import train_test_split\n",
    "from keras.models import Sequential\n",
    "from keras.layers import Conv2D, MaxPooling2D, Flatten, Dense, Dropout"
   ]
  },
  {
   "cell_type": "code",
   "execution_count": 2,
   "metadata": {
    "id": "laUfrrBahomq"
   },
   "outputs": [],
   "source": [
    "# Set the seed for reproducibility\n",
    "np.random.seed(42)"
   ]
  },
  {
   "cell_type": "code",
   "execution_count": 3,
   "metadata": {
    "id": "wwxRlThIhwHb"
   },
   "outputs": [],
   "source": [
    "# Define the input image size and batch size\n",
    "IMG_SIZE = 150\n",
    "BATCH_SIZE = 32"
   ]
  },
  {
   "cell_type": "code",
   "execution_count": 4,
   "metadata": {
    "id": "Rzw7OP-1h0GT"
   },
   "outputs": [],
   "source": [
    "# Define the data directory and load the dataset\n",
    "train_dir = 'train'\n",
    "test_dir = 'test'"
   ]
  },
  {
   "cell_type": "code",
   "execution_count": 5,
   "metadata": {
    "id": "Xfy70Nv2iL9s"
   },
   "outputs": [],
   "source": [
    "# Define the labels\n",
    "labels = ['NORMAL', 'PNEUMONIA']"
   ]
  },
  {
   "cell_type": "code",
   "execution_count": 6,
   "metadata": {
    "id": "zkly0L6HiRHN"
   },
   "outputs": [],
   "source": [
    "# Function to read the images\n",
    "def read_image(file_path):\n",
    "    img = cv2.imread(file_path, cv2.IMREAD_COLOR)\n",
    "    img = cv2.resize(img, (IMG_SIZE, IMG_SIZE))\n",
    "    return img"
   ]
  },
  {
   "cell_type": "code",
   "execution_count": 7,
   "metadata": {
    "id": "THNjcmf1iTel"
   },
   "outputs": [],
   "source": [
    "# Function to prepare the dataset\n",
    "def prepare_data(data_dir, labels):\n",
    "    X = []\n",
    "    y = []\n",
    "\n",
    "    for label in labels:\n",
    "        path = os.path.join(data_dir, label)\n",
    "        class_num = labels.index(label)\n",
    "\n",
    "        for img in os.listdir(path):\n",
    "            img_path = os.path.join(path, img)\n",
    "            img = read_image(img_path)\n",
    "            X.append(img)\n",
    "            y.append(class_num)\n",
    "\n",
    "    X = np.array(X)\n",
    "    y = np.array(y)\n",
    "\n",
    "    return X, y"
   ]
  },
  {
   "cell_type": "code",
   "execution_count": 8,
   "metadata": {
    "id": "kInKkPNtiWXU"
   },
   "outputs": [],
   "source": [
    "# Prepare the dataset\n",
    "X_train, y_train = prepare_data(train_dir, labels)\n",
    "X_test, y_test = prepare_data(test_dir, labels)"
   ]
  },
  {
   "cell_type": "code",
   "execution_count": 9,
   "metadata": {
    "id": "wooBZg1fiZHT"
   },
   "outputs": [],
   "source": [
    "# Normalize the images\n",
    "X_train = X_train / 255\n",
    "X_test = X_test / 255"
   ]
  },
  {
   "cell_type": "code",
   "execution_count": 10,
   "metadata": {
    "id": "WTBCZ1IXiejI"
   },
   "outputs": [],
   "source": [
    "# Split the training dataset into training and validation sets\n",
    "X_train, X_val, y_train, y_val = train_test_split(X_train, y_train, test_size=0.2, random_state=42)"
   ]
  },
  {
   "cell_type": "code",
   "execution_count": 11,
   "metadata": {
    "id": "byeta16Iihuu"
   },
   "outputs": [
    {
     "name": "stderr",
     "output_type": "stream",
     "text": [
      "2023-03-13 18:49:20.772621: I tensorflow/compiler/jit/xla_cpu_device.cc:41] Not creating XLA devices, tf_xla_enable_xla_devices not set\n",
      "2023-03-13 18:49:20.777250: I tensorflow/stream_executor/platform/default/dso_loader.cc:49] Successfully opened dynamic library libcuda.so.1\n",
      "2023-03-13 18:49:21.169891: E tensorflow/stream_executor/cuda/cuda_gpu_executor.cc:927] could not open file to read NUMA node: /sys/bus/pci/devices/0000:01:00.0/numa_node\n",
      "Your kernel may have been built without NUMA support.\n",
      "2023-03-13 18:49:21.170234: I tensorflow/core/common_runtime/gpu/gpu_device.cc:1720] Found device 0 with properties: \n",
      "pciBusID: 0000:01:00.0 name: NVIDIA GeForce GTX 1650 computeCapability: 7.5\n",
      "coreClock: 1.515GHz coreCount: 14 deviceMemorySize: 4.00GiB deviceMemoryBandwidth: 178.84GiB/s\n",
      "2023-03-13 18:49:21.170477: I tensorflow/stream_executor/platform/default/dso_loader.cc:49] Successfully opened dynamic library libcudart.so.10.1\n",
      "2023-03-13 18:49:21.207668: I tensorflow/stream_executor/platform/default/dso_loader.cc:49] Successfully opened dynamic library libcublas.so.10\n",
      "2023-03-13 18:49:21.207892: I tensorflow/stream_executor/platform/default/dso_loader.cc:49] Successfully opened dynamic library libcublasLt.so.10\n",
      "2023-03-13 18:49:21.239430: I tensorflow/stream_executor/platform/default/dso_loader.cc:49] Successfully opened dynamic library libcufft.so.10\n",
      "2023-03-13 18:49:21.246404: I tensorflow/stream_executor/platform/default/dso_loader.cc:49] Successfully opened dynamic library libcurand.so.10\n",
      "2023-03-13 18:49:21.296401: I tensorflow/stream_executor/platform/default/dso_loader.cc:49] Successfully opened dynamic library libcusolver.so.10\n",
      "2023-03-13 18:49:21.301503: I tensorflow/stream_executor/platform/default/dso_loader.cc:49] Successfully opened dynamic library libcusparse.so.10\n",
      "2023-03-13 18:49:21.361476: I tensorflow/stream_executor/platform/default/dso_loader.cc:49] Successfully opened dynamic library libcudnn.so.7\n",
      "2023-03-13 18:49:21.361801: E tensorflow/stream_executor/cuda/cuda_gpu_executor.cc:927] could not open file to read NUMA node: /sys/bus/pci/devices/0000:01:00.0/numa_node\n",
      "Your kernel may have been built without NUMA support.\n",
      "2023-03-13 18:49:21.361904: E tensorflow/stream_executor/cuda/cuda_gpu_executor.cc:927] could not open file to read NUMA node: /sys/bus/pci/devices/0000:01:00.0/numa_node\n",
      "Your kernel may have been built without NUMA support.\n",
      "2023-03-13 18:49:21.361926: I tensorflow/core/common_runtime/gpu/gpu_device.cc:1862] Adding visible gpu devices: 0\n",
      "2023-03-13 18:49:21.363779: I tensorflow/core/platform/cpu_feature_guard.cc:142] This TensorFlow binary is optimized with oneAPI Deep Neural Network Library (oneDNN) to use the following CPU instructions in performance-critical operations:  SSE4.1 SSE4.2 AVX AVX2 FMA\n",
      "To enable them in other operations, rebuild TensorFlow with the appropriate compiler flags.\n",
      "2023-03-13 18:49:21.366006: I tensorflow/compiler/jit/xla_gpu_device.cc:99] Not creating XLA devices, tf_xla_enable_xla_devices not set\n",
      "2023-03-13 18:49:21.366439: E tensorflow/stream_executor/cuda/cuda_gpu_executor.cc:927] could not open file to read NUMA node: /sys/bus/pci/devices/0000:01:00.0/numa_node\n",
      "Your kernel may have been built without NUMA support.\n",
      "2023-03-13 18:49:21.366473: I tensorflow/core/common_runtime/gpu/gpu_device.cc:1720] Found device 0 with properties: \n",
      "pciBusID: 0000:01:00.0 name: NVIDIA GeForce GTX 1650 computeCapability: 7.5\n",
      "coreClock: 1.515GHz coreCount: 14 deviceMemorySize: 4.00GiB deviceMemoryBandwidth: 178.84GiB/s\n",
      "2023-03-13 18:49:21.366551: I tensorflow/stream_executor/platform/default/dso_loader.cc:49] Successfully opened dynamic library libcudart.so.10.1\n",
      "2023-03-13 18:49:21.366576: I tensorflow/stream_executor/platform/default/dso_loader.cc:49] Successfully opened dynamic library libcublas.so.10\n",
      "2023-03-13 18:49:21.366594: I tensorflow/stream_executor/platform/default/dso_loader.cc:49] Successfully opened dynamic library libcublasLt.so.10\n",
      "2023-03-13 18:49:21.366610: I tensorflow/stream_executor/platform/default/dso_loader.cc:49] Successfully opened dynamic library libcufft.so.10\n",
      "2023-03-13 18:49:21.366626: I tensorflow/stream_executor/platform/default/dso_loader.cc:49] Successfully opened dynamic library libcurand.so.10\n",
      "2023-03-13 18:49:21.366689: I tensorflow/stream_executor/platform/default/dso_loader.cc:49] Successfully opened dynamic library libcusolver.so.10\n",
      "2023-03-13 18:49:21.366715: I tensorflow/stream_executor/platform/default/dso_loader.cc:49] Successfully opened dynamic library libcusparse.so.10\n",
      "2023-03-13 18:49:21.366732: I tensorflow/stream_executor/platform/default/dso_loader.cc:49] Successfully opened dynamic library libcudnn.so.7\n",
      "2023-03-13 18:49:21.366811: E tensorflow/stream_executor/cuda/cuda_gpu_executor.cc:927] could not open file to read NUMA node: /sys/bus/pci/devices/0000:01:00.0/numa_node\n",
      "Your kernel may have been built without NUMA support.\n",
      "2023-03-13 18:49:21.366860: E tensorflow/stream_executor/cuda/cuda_gpu_executor.cc:927] could not open file to read NUMA node: /sys/bus/pci/devices/0000:01:00.0/numa_node\n",
      "Your kernel may have been built without NUMA support.\n",
      "2023-03-13 18:49:21.366868: I tensorflow/core/common_runtime/gpu/gpu_device.cc:1862] Adding visible gpu devices: 0\n",
      "2023-03-13 18:49:21.367355: I tensorflow/stream_executor/platform/default/dso_loader.cc:49] Successfully opened dynamic library libcudart.so.10.1\n",
      "2023-03-13 18:49:22.782075: I tensorflow/core/common_runtime/gpu/gpu_device.cc:1261] Device interconnect StreamExecutor with strength 1 edge matrix:\n",
      "2023-03-13 18:49:22.782134: I tensorflow/core/common_runtime/gpu/gpu_device.cc:1267]      0 \n",
      "2023-03-13 18:49:22.782146: I tensorflow/core/common_runtime/gpu/gpu_device.cc:1280] 0:   N \n",
      "2023-03-13 18:49:22.783274: E tensorflow/stream_executor/cuda/cuda_gpu_executor.cc:927] could not open file to read NUMA node: /sys/bus/pci/devices/0000:01:00.0/numa_node\n",
      "Your kernel may have been built without NUMA support.\n",
      "2023-03-13 18:49:22.783294: I tensorflow/core/common_runtime/gpu/gpu_device.cc:1489] Could not identify NUMA node of platform GPU id 0, defaulting to 0.  Your kernel may not have been built with NUMA support.\n",
      "2023-03-13 18:49:22.783351: E tensorflow/stream_executor/cuda/cuda_gpu_executor.cc:927] could not open file to read NUMA node: /sys/bus/pci/devices/0000:01:00.0/numa_node\n",
      "Your kernel may have been built without NUMA support.\n",
      "2023-03-13 18:49:22.783406: E tensorflow/stream_executor/cuda/cuda_gpu_executor.cc:927] could not open file to read NUMA node: /sys/bus/pci/devices/0000:01:00.0/numa_node\n",
      "Your kernel may have been built without NUMA support.\n",
      "2023-03-13 18:49:22.783433: I tensorflow/core/common_runtime/gpu/gpu_device.cc:1406] Created TensorFlow device (/job:localhost/replica:0/task:0/device:GPU:0 with 2863 MB memory) -> physical GPU (device: 0, name: NVIDIA GeForce GTX 1650, pci bus id: 0000:01:00.0, compute capability: 7.5)\n"
     ]
    }
   ],
   "source": [
    "# Define the model\n",
    "model = Sequential()\n",
    "\n",
    "model.add(Conv2D(32, (3, 3), activation='relu', input_shape=(IMG_SIZE, IMG_SIZE, 3)))\n",
    "model.add(MaxPooling2D(pool_size=(2, 2)))\n",
    "model.add(Dropout(0.25))\n",
    "\n",
    "model.add(Conv2D(64, (3, 3), activation='relu'))\n",
    "model.add(MaxPooling2D(pool_size=(2, 2)))\n",
    "model.add(Dropout(0.25))\n",
    "\n",
    "model.add(Conv2D(128, (3, 3), activation='relu'))\n",
    "model.add(MaxPooling2D(pool_size=(2, 2)))\n",
    "model.add(Dropout(0.25))\n",
    "\n",
    "model.add(Flatten())\n",
    "\n",
    "model.add(Dense(64, activation='relu'))\n",
    "model.add(Dropout(0.5))\n",
    "\n",
    "model.add(Dense(1, activation='sigmoid'))"
   ]
  },
  {
   "cell_type": "code",
   "execution_count": 12,
   "metadata": {
    "id": "UVxUE8fWiilf"
   },
   "outputs": [],
   "source": [
    "# Compile the model\n",
    "model.compile(loss='binary_crossentropy', optimizer='adam', metrics=['accuracy'])"
   ]
  },
  {
   "cell_type": "code",
   "execution_count": 13,
   "metadata": {
    "colab": {
     "base_uri": "https://localhost:8080/"
    },
    "id": "WCfv33Apin2G",
    "outputId": "9ec0a5b4-e569-4c86-b4e3-75b5313eb1e8"
   },
   "outputs": [
    {
     "name": "stderr",
     "output_type": "stream",
     "text": [
      "2023-03-13 18:49:23.713029: W tensorflow/core/framework/cpu_allocator_impl.cc:80] Allocation of 1015470000 exceeds 10% of free system memory.\n",
      "2023-03-13 18:49:24.303022: I tensorflow/compiler/mlir/mlir_graph_optimization_pass.cc:116] None of the MLIR optimization passes are enabled (registered 2)\n",
      "2023-03-13 18:49:24.307850: I tensorflow/core/platform/profile_utils/cpu_utils.cc:112] CPU Frequency: 2994275000 Hz\n"
     ]
    },
    {
     "name": "stdout",
     "output_type": "stream",
     "text": [
      "Epoch 1/25\n"
     ]
    },
    {
     "name": "stderr",
     "output_type": "stream",
     "text": [
      "2023-03-13 18:49:24.912996: I tensorflow/stream_executor/platform/default/dso_loader.cc:49] Successfully opened dynamic library libcublas.so.10\n",
      "2023-03-13 18:49:25.309464: I tensorflow/stream_executor/platform/default/dso_loader.cc:49] Successfully opened dynamic library libcudnn.so.7\n"
     ]
    },
    {
     "name": "stdout",
     "output_type": "stream",
     "text": [
      "118/118 [==============================] - ETA: 0s - loss: 0.5902 - accuracy: 0.7999"
     ]
    },
    {
     "name": "stderr",
     "output_type": "stream",
     "text": [
      "2023-03-13 18:49:33.464096: W tensorflow/core/framework/cpu_allocator_impl.cc:80] Allocation of 254070000 exceeds 10% of free system memory.\n"
     ]
    },
    {
     "name": "stdout",
     "output_type": "stream",
     "text": [
      "118/118 [==============================] - 10s 58ms/step - loss: 0.5887 - accuracy: 0.8003 - val_loss: 0.1969 - val_accuracy: 0.9256\n",
      "Epoch 2/25\n",
      "118/118 [==============================] - 5s 42ms/step - loss: 0.1859 - accuracy: 0.9159 - val_loss: 0.1195 - val_accuracy: 0.9660\n",
      "Epoch 3/25\n",
      "118/118 [==============================] - 5s 42ms/step - loss: 0.1610 - accuracy: 0.9400 - val_loss: 0.0928 - val_accuracy: 0.9692\n",
      "Epoch 4/25\n",
      "118/118 [==============================] - 5s 42ms/step - loss: 0.1374 - accuracy: 0.9460 - val_loss: 0.1049 - val_accuracy: 0.9617\n",
      "Epoch 5/25\n",
      "118/118 [==============================] - 5s 42ms/step - loss: 0.1200 - accuracy: 0.9547 - val_loss: 0.1002 - val_accuracy: 0.9702\n",
      "Epoch 6/25\n",
      "118/118 [==============================] - 5s 42ms/step - loss: 0.1086 - accuracy: 0.9625 - val_loss: 0.0645 - val_accuracy: 0.9777\n",
      "Epoch 7/25\n",
      "118/118 [==============================] - 5s 42ms/step - loss: 0.1009 - accuracy: 0.9620 - val_loss: 0.0736 - val_accuracy: 0.9851\n",
      "Epoch 8/25\n",
      "118/118 [==============================] - 5s 42ms/step - loss: 0.1003 - accuracy: 0.9669 - val_loss: 0.0778 - val_accuracy: 0.9830\n",
      "Epoch 9/25\n",
      "118/118 [==============================] - 5s 42ms/step - loss: 0.0873 - accuracy: 0.9702 - val_loss: 0.0616 - val_accuracy: 0.9841\n",
      "Epoch 10/25\n",
      "118/118 [==============================] - 5s 42ms/step - loss: 0.0861 - accuracy: 0.9687 - val_loss: 0.0906 - val_accuracy: 0.9756\n",
      "Epoch 11/25\n",
      "118/118 [==============================] - 5s 42ms/step - loss: 0.0657 - accuracy: 0.9730 - val_loss: 0.0583 - val_accuracy: 0.9798\n",
      "Epoch 12/25\n",
      "118/118 [==============================] - 5s 42ms/step - loss: 0.0806 - accuracy: 0.9737 - val_loss: 0.0502 - val_accuracy: 0.9819\n",
      "Epoch 13/25\n",
      "118/118 [==============================] - 5s 42ms/step - loss: 0.0614 - accuracy: 0.9838 - val_loss: 0.0554 - val_accuracy: 0.9819\n",
      "Epoch 14/25\n",
      "118/118 [==============================] - 5s 42ms/step - loss: 0.0690 - accuracy: 0.9797 - val_loss: 0.0568 - val_accuracy: 0.9798\n",
      "Epoch 15/25\n",
      "118/118 [==============================] - 5s 42ms/step - loss: 0.0671 - accuracy: 0.9762 - val_loss: 0.0456 - val_accuracy: 0.9862\n",
      "Epoch 16/25\n",
      "118/118 [==============================] - 5s 42ms/step - loss: 0.0624 - accuracy: 0.9798 - val_loss: 0.0556 - val_accuracy: 0.9819\n",
      "Epoch 17/25\n",
      "118/118 [==============================] - 5s 42ms/step - loss: 0.0587 - accuracy: 0.9854 - val_loss: 0.0476 - val_accuracy: 0.9841\n",
      "Epoch 18/25\n",
      "118/118 [==============================] - 5s 42ms/step - loss: 0.0484 - accuracy: 0.9833 - val_loss: 0.0578 - val_accuracy: 0.9798\n",
      "Epoch 19/25\n",
      "118/118 [==============================] - 5s 42ms/step - loss: 0.0640 - accuracy: 0.9780 - val_loss: 0.0819 - val_accuracy: 0.9766\n",
      "Epoch 20/25\n",
      "118/118 [==============================] - 5s 42ms/step - loss: 0.0499 - accuracy: 0.9828 - val_loss: 0.0468 - val_accuracy: 0.9841\n",
      "Epoch 21/25\n",
      "118/118 [==============================] - 5s 42ms/step - loss: 0.0435 - accuracy: 0.9898 - val_loss: 0.0550 - val_accuracy: 0.9756\n",
      "Epoch 22/25\n",
      "118/118 [==============================] - 5s 42ms/step - loss: 0.0448 - accuracy: 0.9871 - val_loss: 0.0395 - val_accuracy: 0.9904\n",
      "Epoch 23/25\n",
      "118/118 [==============================] - 5s 42ms/step - loss: 0.0425 - accuracy: 0.9843 - val_loss: 0.0341 - val_accuracy: 0.9894\n",
      "Epoch 24/25\n",
      "118/118 [==============================] - 5s 42ms/step - loss: 0.0491 - accuracy: 0.9861 - val_loss: 0.0493 - val_accuracy: 0.9872\n",
      "Epoch 25/25\n",
      "118/118 [==============================] - 5s 42ms/step - loss: 0.0375 - accuracy: 0.9907 - val_loss: 0.0607 - val_accuracy: 0.9777\n"
     ]
    }
   ],
   "source": [
    "# Train the model\n",
    "history = model.fit(X_train, y_train, batch_size=BATCH_SIZE, epochs=25, validation_data=(X_val, y_val))"
   ]
  },
  {
   "cell_type": "code",
   "execution_count": 14,
   "metadata": {
    "colab": {
     "base_uri": "https://localhost:8080/"
    },
    "id": "htLxGR0iirBE",
    "outputId": "cda8680b-a851-4fc7-8572-dc709c52af8f"
   },
   "outputs": [
    {
     "name": "stdout",
     "output_type": "stream",
     "text": [
      "20/20 [==============================] - 0s 16ms/step - loss: 3.4630 - accuracy: 0.7019\n"
     ]
    }
   ],
   "source": [
    "# Evaluate the model on the test dataset\n",
    "test_loss, test_acc = model.evaluate(X_test, y_test)"
   ]
  },
  {
   "cell_type": "code",
   "execution_count": 15,
   "metadata": {
    "colab": {
     "base_uri": "https://localhost:8080/"
    },
    "id": "f1nfMT9civLr",
    "outputId": "6307da72-88c7-4fb8-9904-e4a09e2640b6"
   },
   "outputs": [
    {
     "name": "stdout",
     "output_type": "stream",
     "text": [
      "Test accuracy: 70.19%\n"
     ]
    }
   ],
   "source": [
    "# Print the test accuracy\n",
    "print(\"Test accuracy: {:.2f}%\".format(test_acc * 100))"
   ]
  },
  {
   "cell_type": "code",
   "execution_count": 16,
   "metadata": {
    "id": "DH_KGw36kTsk"
   },
   "outputs": [],
   "source": [
    "model.save(\"new_pneumonia.h5\")"
   ]
  },
  {
   "cell_type": "code",
   "execution_count": 17,
   "metadata": {
    "id": "Z-lWIj4YkhfL"
   },
   "outputs": [],
   "source": [
    "\n",
    "from keras.preprocessing import images\n",
    "import tensorflow as tf\n",
    "from tensorflow import keras"
   ]
  },
  {
   "cell_type": "code",
   "execution_count": null,
   "metadata": {
    "colab": {
     "base_uri": "https://localhost:8080/"
    },
    "id": "g1_3NZcCfqi-",
    "outputId": "b3fc18ef-76d8-4c0b-a42e-cb114eca284c"
   },
   "outputs": [],
   "source": [
    "from google.colab import drive\n",
    "drive.mount('/content/gdrive')"
   ]
  },
  {
   "cell_type": "code",
   "execution_count": null,
   "metadata": {
    "id": "daTvaOeXfw0h"
   },
   "outputs": [],
   "source": [
    "import tensorflow as tf\n",
    "from tensorflow import keras\n",
    "from keras.preprocessing import image\n",
    "from keras.preprocessing import image\n",
    "import keras.utils as image\n",
    "img= keras.utils.load_img('test/PNEUMONIA/person100_bacteria_475.jpeg', target_size=(64,64))"
   ]
  },
  {
   "cell_type": "code",
   "execution_count": null,
   "metadata": {
    "id": "pvBlkiZ-f1ys"
   },
   "outputs": [],
   "source": [
    "\n",
    "from keras.preprocessing import image\n",
    "import tensorflow as tf\n",
    "from tensorflow import keras\n",
    "from keras.utils import load_img, img_to_array"
   ]
  },
  {
   "cell_type": "code",
   "execution_count": null,
   "metadata": {
    "id": "Y-KB7FtYf4Oa"
   },
   "outputs": [],
   "source": [
    "import numpy as np\n",
    "from keras.preprocessing import image\n",
    "import tensorflow as tf\n",
    "from tensorflow import keras\n",
    "from tensorflow.keras.utils import load_img, img_to_array\n",
    "import keras.utils as image\n",
    "x = image.img_to_array(img)\n",
    "x = np.expand_dims(x,axis=0)"
   ]
  },
  {
   "cell_type": "code",
   "execution_count": 25,
   "metadata": {
    "id": "Vfe_4zCUf69i"
   },
   "outputs": [],
   "source": [
    "import numpy as np"
   ]
  },
  {
   "cell_type": "code",
   "execution_count": 26,
   "metadata": {
    "id": "jhbDcHKyf9LM"
   },
   "outputs": [],
   "source": [
    "import tensorflow as tf\n",
    "from tensorflow import keras"
   ]
  },
  {
   "cell_type": "code",
   "execution_count": null,
   "metadata": {
    "id": "ih2L5sPogsfE"
   },
   "outputs": [],
   "source": [
    "import numpy as np\n",
    "x = image.img_to_array(img)\n",
    "x = np.expand_dims(x,axis=0)"
   ]
  },
  {
   "cell_type": "code",
   "execution_count": null,
   "metadata": {
    "colab": {
     "base_uri": "https://localhost:8080/"
    },
    "id": "_U3NFeHJVcNo",
    "outputId": "f973f293-adb5-46d9-95d5-01d1f0338b9a"
   },
   "outputs": [],
   "source": [
    "prediction=model.predict\n",
    "np.argmax(prediction)"
   ]
  }
 ],
 "metadata": {
  "accelerator": "GPU",
  "colab": {
   "provenance": []
  },
  "gpuClass": "standard",
  "kernelspec": {
   "display_name": "ML_env",
   "language": "python",
   "name": "ml_env"
  },
  "language_info": {
   "codemirror_mode": {
    "name": "ipython",
    "version": 3
   },
   "file_extension": ".py",
   "mimetype": "text/x-python",
   "name": "python",
   "nbconvert_exporter": "python",
   "pygments_lexer": "ipython3",
   "version": "3.9.16"
  }
 },
 "nbformat": 4,
 "nbformat_minor": 1
}
